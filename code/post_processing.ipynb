{
 "cells": [
  {
   "cell_type": "code",
   "execution_count": 19,
   "metadata": {},
   "outputs": [
    {
     "name": "stdout",
     "output_type": "stream",
     "text": [
      "7546\n"
     ]
    }
   ],
   "source": [
    "import pandas as pd\n",
    "import ast\n",
    "import os\n",
    "print(os.getpid())"
   ]
  },
  {
   "cell_type": "code",
   "execution_count": 3,
   "metadata": {},
   "outputs": [
    {
     "data": {
      "text/plain": [
       "650888"
      ]
     },
     "execution_count": 3,
     "metadata": {},
     "output_type": "execute_result"
    }
   ],
   "source": [
    "file_path = \"/mntssd/mnt3/shanshanbai/my_storage_from_qian/results/filtered_osm_buildings_metadata.jsonl\"\n",
    "df = pd.read_json(file_path, lines=True)\n",
    "len(df)"
   ]
  },
  {
   "cell_type": "code",
   "execution_count": 4,
   "metadata": {},
   "outputs": [
    {
     "name": "stdout",
     "output_type": "stream",
     "text": [
      "0\n"
     ]
    }
   ],
   "source": [
    "# Count the number of non-NaN items in the 'error' column\n",
    "non_nan_count = df['error'].notna().sum()\n",
    "print(non_nan_count)\n",
    "if non_nan_count == 0:\n",
    "    df.drop(columns=['error'], inplace=True)"
   ]
  },
  {
   "cell_type": "code",
   "execution_count": 5,
   "metadata": {},
   "outputs": [
    {
     "data": {
      "text/plain": [
       "639322"
      ]
     },
     "execution_count": 5,
     "metadata": {},
     "output_type": "execute_result"
    }
   ],
   "source": [
    "# Convert string representation of lists to actual lists\n",
    "df['tweet language distribution'] = df['tweet language distribution'].apply(ast.literal_eval)\n",
    "df = df[df['tweet language distribution'].apply(lambda x: len(x) > 0)]\n",
    "len(df)"
   ]
  },
  {
   "cell_type": "code",
   "execution_count": 6,
   "metadata": {},
   "outputs": [
    {
     "data": {
      "text/plain": [
       "639322"
      ]
     },
     "execution_count": 6,
     "metadata": {},
     "output_type": "execute_result"
    }
   ],
   "source": [
    "df = df[df['building tags'].apply(lambda x: len(x) > 0)]\n",
    "len(df)"
   ]
  },
  {
   "cell_type": "markdown",
   "metadata": {},
   "source": [
    "# how many unique building tags and remove meaningless ones"
   ]
  },
  {
   "cell_type": "code",
   "execution_count": 7,
   "metadata": {},
   "outputs": [],
   "source": [
    "# Function to combine tags and classes\n",
    "def combine_tags_and_classes(row):\n",
    "    # Combine building tags and building class into one list\n",
    "    combined = row['building tags'] + [row['building class']]\n",
    "    # Remove duplicates by converting to a set and back to a list\n",
    "    return list(set(combined))\n",
    "\n",
    "# Function to split tags in a list\n",
    "def split_building_tags(tags):\n",
    "    if isinstance(tags, list):\n",
    "        # Split each string by \";\" and flatten the result\n",
    "        return [tag for item in tags for tag in (item.split(\";\") if isinstance(item, str) else [item])]\n",
    "    return tags\n",
    "\n",
    "# Function to remove underscores from all tags in a list\n",
    "def remove_underscores(tags):\n",
    "    if isinstance(tags, list):\n",
    "        return [tag.replace(\"_\", \" \") for tag in tags]\n",
    "    return tags\n",
    "\n",
    "def remove_slash(tags):\n",
    "    if isinstance(tags, list):\n",
    "        return [tag.replace(\"/\", \" \") for tag in tags]\n",
    "    return tags\n",
    "\n",
    "def remove_comma(tags):\n",
    "    if isinstance(tags, list):\n",
    "        return [tag.replace(\",\", \" \") for tag in tags]\n",
    "    return tags\n",
    "\n",
    "def remove_bar(tags):\n",
    "    if isinstance(tags, list):\n",
    "        return [tag.replace(\"-\", \" \") for tag in tags]\n",
    "    return tags\n",
    "\n",
    "df['building tags'] = df.apply(combine_tags_and_classes, axis=1)\n",
    "df['building tags'] = df['building tags'].apply(split_building_tags)\n",
    "df['building tags'] = df['building tags'].apply(remove_underscores)\n",
    "df['building tags'] = df['building tags'].apply(remove_slash)\n",
    "df['building tags'] = df['building tags'].apply(remove_comma)\n",
    "df['building tags'] = df['building tags'].apply(remove_bar)\n",
    "len(df)"
   ]
  },
  {
   "cell_type": "code",
   "execution_count": 8,
   "metadata": {},
   "outputs": [
    {
     "data": {
      "text/plain": [
       "639322"
      ]
     },
     "execution_count": 8,
     "metadata": {},
     "output_type": "execute_result"
    }
   ],
   "source": [
    "# Function to process building tags\n",
    "def clean_building_tags(tags):\n",
    "    if isinstance(tags, list):\n",
    "        # Set of tags to be removed for efficiency\n",
    "        invalid_tags = {\n",
    "            'yes', ' no', '35', 'TS', 'as', 'building', 'cm', 'facade',\n",
    "            'https://www.keykoleji.com/images/kampusler/kadikoy/1.jpeg',\n",
    "            'no', 'other', 'ramp', 'retial', 'roof', 'room', 'route',\n",
    "            'sernice', 'shine', 'structure', 'bridge', 'air shaft',\n",
    "            'suspe', 'undefined','utility', 'uğur', 'vacant',\n",
    "            'wall', 'yç','ts', 'viaduct', '松尾松濤ビル', 'block'\n",
    "        }\n",
    "\n",
    "        # Process tags: split by \";\" and flatten\n",
    "        cleaned_tags = []\n",
    "        for item in tags:\n",
    "            if isinstance(item, str):\n",
    "                # Split by \";\" and clean each tag\n",
    "                sub_tags = item.split(\";\")\n",
    "                for tag in sub_tags:\n",
    "                    tag = tag.strip().lower()  # Normalize the tag\n",
    "                    if tag not in invalid_tags:  # Exclude invalid tags\n",
    "                        cleaned_tags.append(tag)\n",
    "            else:\n",
    "                cleaned_tags.append(item)\n",
    "        return cleaned_tags\n",
    "    return tags  # Return unmodified if not a list\n",
    "\n",
    "# Apply the function to the DataFrame\n",
    "df['building tags'] = df['building tags'].apply(clean_building_tags)\n",
    "len(df)"
   ]
  },
  {
   "cell_type": "code",
   "execution_count": 9,
   "metadata": {},
   "outputs": [
    {
     "data": {
      "text/plain": [
       "615134"
      ]
     },
     "execution_count": 9,
     "metadata": {},
     "output_type": "execute_result"
    }
   ],
   "source": [
    "df = df[df['building tags'].apply(lambda x: len(x) > 0)]\n",
    "len(df)"
   ]
  },
  {
   "cell_type": "code",
   "execution_count": 10,
   "metadata": {},
   "outputs": [],
   "source": [
    "# Filter out rows where 'building class' is 'other'\n",
    "df_commercial_residential= df[df['building class'] != 'other']\n",
    "df_commercial= df_commercial_residential[df_commercial_residential['building class'] == 'commercial']\n",
    "df_residential= df_commercial_residential[df_commercial_residential['building class'] == 'residential']\n"
   ]
  },
  {
   "cell_type": "code",
   "execution_count": 11,
   "metadata": {},
   "outputs": [
    {
     "name": "stderr",
     "output_type": "stream",
     "text": [
      "/tmp/ipykernel_7546/3807581514.py:69: SettingWithCopyWarning: \n",
      "A value is trying to be set on a copy of a slice from a DataFrame.\n",
      "Try using .loc[row_indexer,col_indexer] = value instead\n",
      "\n",
      "See the caveats in the documentation: https://pandas.pydata.org/pandas-docs/stable/user_guide/indexing.html#returning-a-view-versus-a-copy\n",
      "  df_commercial['building tags'] = df_commercial['building tags'].apply(clean_building_tags)\n",
      "/tmp/ipykernel_7546/3807581514.py:70: SettingWithCopyWarning: \n",
      "A value is trying to be set on a copy of a slice from a DataFrame.\n",
      "Try using .loc[row_indexer,col_indexer] = value instead\n",
      "\n",
      "See the caveats in the documentation: https://pandas.pydata.org/pandas-docs/stable/user_guide/indexing.html#returning-a-view-versus-a-copy\n",
      "  df_residential['building tags'] = df_residential['building tags'].apply(keep_building_tags)\n"
     ]
    },
    {
     "data": {
      "text/plain": [
       "554553"
      ]
     },
     "execution_count": 11,
     "metadata": {},
     "output_type": "execute_result"
    }
   ],
   "source": [
    "# Remove residential related tags and non_commercial_tags from comercial tags\n",
    "def clean_building_tags(tags):\n",
    "    if isinstance(tags, list):\n",
    "        # Set of tags to be removed for efficiency\n",
    "        invalid_tags = {\n",
    "            'apartments', 'apartment', 'apartaments', 'bungalow', 'bunker', 'cabin', 'detached',\n",
    "            'dormitory', 'terrace', 'semidetached house', 'hut', 'ger', 'houseboat', 'static caravan',\n",
    "            'house', 'gatehouse', 'residential', 'dwelling house', 'residences', 'residence',\n",
    "            'residental', 'manor', 'villa', 'flats', 'student residence', 'townhouse', 'allotment house'\n",
    "        }\n",
    "        \n",
    "        non_commercial_tags = {\n",
    "            'allotment house', 'ambulance station', 'apartment building', 'barracks', 'block', 'boat',\n",
    "            'boathouse', 'bus garage', 'bus station', 'canopy', 'carport', 'cathedral', 'cellar',\n",
    "            'chapel', 'chimney', 'church', 'civic', 'college', 'construction', 'container', 'court',\n",
    "            'demolished', 'disused:cafe', 'electricity', 'electronics', 'elevator', 'embassy', 'entrance',\n",
    "            'fire station', 'florist', 'forsthaus', 'foto', 'fuel', 'fundacion', 'furniture', 'gangway',\n",
    "            'garage', 'garages', 'gate', 'gazebo', 'gedenkstätte deutscher widerstand', 'government',\n",
    "            'government office', 'guardhouse', 'hall of residence', 'hangar', 'hardware', 'hospital',\n",
    "            'https://www.keykoleji.com/images/kampusler/kadikoy/1.jpeg', 'kantin vokasi',\n",
    "            'kenbo commercial building', 'kindergarten', 'military', 'mixed', 'mixed use', 'monastery',\n",
    "            'mosque', 'multiple', 'orangery', 'outbuilding', 'overpass', 'park', 'parking', 'pavilion',\n",
    "            'place of worship', 'police', 'police station', 'porch', 'prefabricated', 'preschool',\n",
    "            'produce', 'public', 'public building', 'quonset hut', 'railway', 'recreation', 'religious',\n",
    "            'ruins', 'school', 'shed', 'shelter', 'ship', 'shrine', 'silo', 'stable', 'staircase', 'stairs',\n",
    "            'station', 'storage tank', 'store', 'studio', 'studios', 'subdistrict office', 'subdivided house',\n",
    "            'substation', 'subway entrance', 'synagogue', 'tank', 'tech cab', 'temple', 'tent',\n",
    "            'transformer tower', 'university', 'ventilation shaft', 'voiture publicitaire', 'water tower',\n",
    "            'https:  www.keykoleji.com images kampusler kadikoy 1.jpeg',\n",
    "        }\n",
    "\n",
    "\n",
    "        # Process tags: split by \";\" and flatten\n",
    "        cleaned_tags = []\n",
    "        for item in tags:\n",
    "            if isinstance(item, str):\n",
    "                # Split by \";\" and clean each tag\n",
    "                sub_tags = item.split(\";\")\n",
    "                for tag in sub_tags:\n",
    "                    tag = tag.strip().lower()  # Normalize the tag\n",
    "                    if tag not in invalid_tags and tag not in non_commercial_tags:  # Exclude invalid and non-commercial tags\n",
    "                        cleaned_tags.append(tag)\n",
    "            else:\n",
    "                cleaned_tags.append(item)\n",
    "        return cleaned_tags\n",
    "    return tags  # Return unmodified if not a list\n",
    "\n",
    "# Only keep residential related tags\n",
    "def keep_building_tags(tags):\n",
    "    # Set of valid tags for efficiency\n",
    "    valid_tags = {\n",
    "        'apartments', 'apartment', 'apartaments', 'bungalow', 'bunker', 'cabin', 'detached',\n",
    "        'dormitory', 'terrace', 'semidetached house', 'hut', 'ger', 'houseboat', 'static caravan',\n",
    "        'house', 'gatehouse', 'residential', 'dwelling house', 'residences', 'residence',\n",
    "        'residental', 'manor', 'villa', 'flats', 'student residence', 'townhouse', 'allotment house',\n",
    "    }\n",
    "\n",
    "    if isinstance(tags, list):\n",
    "        # Flatten, normalize, and filter tags\n",
    "        cleaned_tags = [\n",
    "            tag.strip().lower() for item in tags if isinstance(item, str)\n",
    "            for tag in item.split(\";\") if tag.strip().lower() in valid_tags\n",
    "        ]\n",
    "        return cleaned_tags\n",
    "    return tags  # Return unmodified if not a list\n",
    "\n",
    "\n",
    "\n",
    "df_commercial['building tags'] = df_commercial['building tags'].apply(clean_building_tags)\n",
    "df_residential['building tags'] = df_residential['building tags'].apply(keep_building_tags)\n",
    "\n",
    "df = pd.concat([df_commercial, df_residential])\n",
    "len(df)"
   ]
  },
  {
   "cell_type": "code",
   "execution_count": 13,
   "metadata": {},
   "outputs": [
    {
     "data": {
      "text/plain": [
       "554553"
      ]
     },
     "execution_count": 13,
     "metadata": {},
     "output_type": "execute_result"
    }
   ],
   "source": [
    "def preprocess_building_names(names):\n",
    "    if isinstance(names, list):\n",
    "        # Normalize case and strip whitespace\n",
    "        names = [name.title().strip() for name in names]\n",
    "        # Split compound names\n",
    "        names = [subname for name in names for subname in name.split(\";\")]\n",
    "        # Deduplicate\n",
    "        names = list(set(names))\n",
    "        return names\n",
    "    return names\n",
    "\n",
    "\n",
    "# df['building names'] = df.apply(combine_and_deduplicate, axis=1)\n",
    "df['building names'] = df['building names'].apply(preprocess_building_names)\n",
    "len(df)"
   ]
  },
  {
   "cell_type": "code",
   "execution_count": 14,
   "metadata": {},
   "outputs": [
    {
     "data": {
      "text/plain": [
       "94928"
      ]
     },
     "execution_count": 14,
     "metadata": {},
     "output_type": "execute_result"
    }
   ],
   "source": [
    "df = df[df['building names'].apply(lambda x: len(x) > 0)]\n",
    "len(df)"
   ]
  },
  {
   "cell_type": "code",
   "execution_count": 16,
   "metadata": {},
   "outputs": [],
   "source": [
    "df.drop(columns=['index'], inplace=True)\n",
    "# df.drop(columns=['building id'], inplace=True)\n",
    "df.drop(columns=['building operators'], inplace=True)"
   ]
  },
  {
   "cell_type": "code",
   "execution_count": null,
   "metadata": {},
   "outputs": [],
   "source": [
    "# df['building city'].unique()\n",
    "\n",
    "# cities_language_unacceptable = ['Moscow', 'Cairo', 'Istanbul', 'Amsterdam', 'Kyoto', 'Tokyo', 'HongKong', 'Jakarta', 'GuangZhou', 'Shanghai', 'Nanjing', 'Islamabad', 'Nairobi', 'Beijing', 'Wuhan', 'Tehran', 'Changsha', 'Shenzhen', 'Qingdao']"
   ]
  },
  {
   "cell_type": "code",
   "execution_count": 17,
   "metadata": {},
   "outputs": [],
   "source": [
    "# Save DataFrame to JSONL\n",
    "output_path = '/mntssd/mnt3/shanshanbai/my_storage_from_qian/results/useful_buildings.jsonl'\n",
    "df.to_json(output_path, orient='records', lines=True, force_ascii=False)"
   ]
  },
  {
   "cell_type": "code",
   "execution_count": null,
   "metadata": {},
   "outputs": [],
   "source": [
    "df['building class'].value_counts()"
   ]
  },
  {
   "cell_type": "code",
   "execution_count": null,
   "metadata": {},
   "outputs": [],
   "source": [
    "df"
   ]
  },
  {
   "cell_type": "code",
   "execution_count": null,
   "metadata": {},
   "outputs": [],
   "source": [
    "temp = df[df['building names'].apply(lambda x: len(x) == 1)]\n",
    "\n",
    "temp = temp[temp['building tags'].apply(lambda x: len(x) == 2)]\n",
    "\n",
    "len(temp)"
   ]
  },
  {
   "cell_type": "code",
   "execution_count": null,
   "metadata": {},
   "outputs": [],
   "source": [
    "temp['building class'].value_counts()"
   ]
  },
  {
   "cell_type": "code",
   "execution_count": null,
   "metadata": {},
   "outputs": [],
   "source": [
    "temp = temp[temp['tweet language distribution'].apply(lambda x: len(x) < 11)]\n",
    "len(temp)"
   ]
  },
  {
   "cell_type": "code",
   "execution_count": null,
   "metadata": {},
   "outputs": [],
   "source": [
    "temp['building class'].value_counts()"
   ]
  },
  {
   "cell_type": "code",
   "execution_count": null,
   "metadata": {},
   "outputs": [],
   "source": [
    "temp['building city'].nunique()"
   ]
  }
 ],
 "metadata": {
  "kernelspec": {
   "display_name": "Python 3 (ipykernel)",
   "language": "python",
   "name": "python3"
  }
 },
 "nbformat": 4,
 "nbformat_minor": 2
}
