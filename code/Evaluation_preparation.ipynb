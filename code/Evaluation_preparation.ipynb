{
 "cells": [
  {
   "cell_type": "code",
   "execution_count": 8,
   "metadata": {},
   "outputs": [
    {
     "name": "stdout",
     "output_type": "stream",
     "text": [
      "987\n"
     ]
    }
   ],
   "source": [
    "import pandas as pd\n",
    "import ast\n",
    "import os\n",
    "import json\n",
    "import re\n",
    "from itertools import islice\n",
    "from nltk.translate.bleu_score import sentence_bleu, SmoothingFunction\n",
    "print(os.getpid())"
   ]
  },
  {
   "cell_type": "code",
   "execution_count": 2,
   "metadata": {},
   "outputs": [],
   "source": [
    "file_path_synthetic = \"/mntssd/mnt3/shanshanbai/my_storage_from_qian/results/ultimate.jsonl\"\n",
    "file_path_real_train = \"/mntssd/mnt3/shanshanbai/my_storage_from_qian/Data_Train_Test/first_paper/single_imbalance_train.csv\"\n",
    "file_path_real_test = \"/mntssd/mnt3/shanshanbai/my_storage_from_qian/Data_Train_Test/first_paper/single_imbalance_test.csv\""
   ]
  },
  {
   "cell_type": "code",
   "execution_count": null,
   "metadata": {},
   "outputs": [],
   "source": [
    "# concatenate train and test\n",
    "\n",
    "# Load the two CSV files\n",
    "csv1 = pd.read_csv(file_path_real_train)\n",
    "csv2 = pd.read_csv(file_path_real_test)\n",
    "# # Concatenate the files\n",
    "# concatenated = pd.concat([csv1, csv2], ignore_index=True)\n",
    "# # Save the result to a new CSV\n",
    "# concatenated.to_csv('concatenated.csv', index=False)"
   ]
  },
  {
   "cell_type": "code",
   "execution_count": null,
   "metadata": {},
   "outputs": [],
   "source": [
    "# Concatenate the files\n",
    "concatenated = pd.concat([csv1, csv2], ignore_index=True)\n",
    "# Save the result to a new CSV\n",
    "concatenated.to_csv('/mntssd/mnt3/shanshanbai/my_storage_from_qian/Data_Train_Test/first_paper/selfBLEU.csv', index=False)"
   ]
  },
  {
   "cell_type": "code",
   "execution_count": null,
   "metadata": {},
   "outputs": [],
   "source": [
    "concatenated = concatenated.drop(columns=['distance', 'tweet_id','user_id','created_time','latitude','longtitude','device','space_type','country', 'gom','Unnamed: 0','filepath', 'new_filepath','preprocessed_tweet'], inplace=False)"
   ]
  },
  {
   "cell_type": "code",
   "execution_count": 83,
   "metadata": {},
   "outputs": [],
   "source": [
    "real.to_csv('/mntssd/mnt3/shanshanbai/my_storage_from_qian/Data_Train_Test/first_paper/selfBLEU__.csv', index=False)"
   ]
  },
  {
   "cell_type": "code",
   "execution_count": null,
   "metadata": {},
   "outputs": [],
   "source": [
    "# Regex pattern to match URLs\n",
    "url_pattern = r'https?://\\S+|www\\.\\S+'\n",
    "\n",
    "# Remove URLs and create a new column\n",
    "concatenated['tweet_no_url'] = concatenated['original_tweet'].apply(lambda x: re.sub(url_pattern, '', x))\n"
   ]
  },
  {
   "cell_type": "code",
   "execution_count": 101,
   "metadata": {},
   "outputs": [],
   "source": [
    "path_real = \"/mntssd/mnt3/shanshanbai/my_storage_from_qian/Data_Train_Test/first_paper/selfBLEU__.csv\"\n",
    "path_synthetic = \"/mntssd/mnt3/shanshanbai/my_storage_from_qian/results/ultimate.jsonl\"\n",
    "real = pd.read_csv(path_real)\n",
    "synthetic = pd.read_json(path_synthetic, lines=True)\n"
   ]
  },
  {
   "cell_type": "code",
   "execution_count": 106,
   "metadata": {},
   "outputs": [],
   "source": [
    "residential = synthetic[:6558]\n",
    "commercial = synthetic[6558:]\n",
    "residential['mapped_class'] = \"residential\"\n",
    "commercial['mapped_class'] = \"commercial\""
   ]
  },
  {
   "cell_type": "code",
   "execution_count": 109,
   "metadata": {},
   "outputs": [],
   "source": [
    "# Concatenate the two DataFrames\n",
    "synthetic = pd.concat([residential, commercial], ignore_index=True)"
   ]
  },
  {
   "cell_type": "code",
   "execution_count": 111,
   "metadata": {},
   "outputs": [],
   "source": [
    "real.head(5)"
   ]
  },
  {
   "cell_type": "code",
   "execution_count": 110,
   "metadata": {},
   "outputs": [],
   "source": [
    "synthetic.head(5)"
   ]
  },
  {
   "cell_type": "code",
   "execution_count": 81,
   "metadata": {},
   "outputs": [],
   "source": [
    "# real = real.groupby('building_id').agg({\n",
    "#     'mapped_class': 'first',\n",
    "#     'language': lambda x: list(x),\n",
    "#     'city': 'first',\n",
    "#     'tweet_no_url': lambda x: list(x),\n",
    "# }).reset_index()"
   ]
  },
  {
   "cell_type": "code",
   "execution_count": 82,
   "metadata": {},
   "outputs": [],
   "source": [
    "real.head(5)"
   ]
  },
  {
   "cell_type": "code",
   "execution_count": 112,
   "metadata": {},
   "outputs": [],
   "source": [
    "# Find overlapping building_id values\n",
    "overlap = pd.merge(real, synthetic, on='building_id', how='inner')['building_id']\n",
    "# Filter both DataFrames to only include overlapping building_id\n",
    "real_filtered = real[real['building_id'].isin(overlap)]\n",
    "synthetic_filtered = synthetic[synthetic['building_id'].isin(overlap)]"
   ]
  },
  {
   "cell_type": "code",
   "execution_count": 9,
   "metadata": {},
   "outputs": [],
   "source": [
    "real_filtered = pd.read_csv('/mntssd/mnt3/shanshanbai/my_storage_from_qian/results/generated tweets/real.csv')\n",
    "synthetic_filtered = pd.read_csv('/mntssd/mnt3/shanshanbai/my_storage_from_qian/results/generated tweets/synthetic.csv')"
   ]
  },
  {
   "cell_type": "code",
   "execution_count": 10,
   "metadata": {},
   "outputs": [],
   "source": [
    "synthetic_filtered['tweets'] = synthetic_filtered['tweets'].apply(ast.literal_eval)"
   ]
  },
  {
   "cell_type": "code",
   "execution_count": 11,
   "metadata": {},
   "outputs": [],
   "source": [
    "all_tweets = [tweet for sublist in synthetic_filtered['tweets'] for tweet in sublist]"
   ]
  },
  {
   "cell_type": "code",
   "execution_count": 12,
   "metadata": {},
   "outputs": [
    {
     "data": {
      "text/plain": [
       "22444"
      ]
     },
     "execution_count": 12,
     "metadata": {},
     "output_type": "execute_result"
    }
   ],
   "source": [
    "len(all_tweets)"
   ]
  },
  {
   "cell_type": "code",
   "execution_count": 13,
   "metadata": {},
   "outputs": [],
   "source": [
    "# Function to calculate self-BLEU\n",
    "def calculate_self_bleu(tweets):\n",
    "    scores = []\n",
    "    smoothie = SmoothingFunction().method4  # Optional smoothing for BLEU\n",
    "    \n",
    "    for i, candidate in enumerate(tweets):\n",
    "        references = [tweet.split() for j, tweet in enumerate(tweets) if i != j]\n",
    "        candidate_tokens = candidate.split()\n",
    "        bleu_score = sentence_bleu(references, candidate_tokens, smoothing_function=smoothie)\n",
    "        scores.append(bleu_score)\n",
    "    \n",
    "    return scores"
   ]
  },
  {
   "cell_type": "code",
   "execution_count": null,
   "metadata": {},
   "outputs": [],
   "source": [
    "# Calculate self-BLEU for each tweet\n",
    "synthetic_filtered['self_BLEU'] = calculate_self_bleu(all_tweets)\n",
    "\n",
    "# Calculate the average self-BLEU for the dataset\n",
    "average_self_bleu = synthetic_filtered['self_BLEU'].mean()\n",
    "print(f\"Average Self-BLEU: {average_self_bleu}\")"
   ]
  }
 ],
 "metadata": {
  "kernelspec": {
   "display_name": "Python 3 (ipykernel)",
   "language": "python",
   "name": "python3"
  },
  "language_info": {
   "codemirror_mode": {
    "name": "ipython",
    "version": 3
   },
   "file_extension": ".py",
   "mimetype": "text/x-python",
   "name": "python",
   "nbconvert_exporter": "python",
   "pygments_lexer": "ipython3",
   "version": "3.10.16"
  }
 },
 "nbformat": 4,
 "nbformat_minor": 2
}
