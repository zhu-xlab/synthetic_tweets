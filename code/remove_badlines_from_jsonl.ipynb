{
 "cells": [
  {
   "cell_type": "code",
   "execution_count": 1,
   "metadata": {},
   "outputs": [],
   "source": [
    "import json\n",
    "import pandas as pd\n",
    "import os"
   ]
  },
  {
   "cell_type": "code",
   "execution_count": 2,
   "metadata": {},
   "outputs": [
    {
     "name": "stdout",
     "output_type": "stream",
     "text": [
      "1055\n"
     ]
    }
   ],
   "source": [
    "print(os.getpid())"
   ]
  },
  {
   "cell_type": "markdown",
   "metadata": {},
   "source": [
    "Check how many failed data in the file:"
   ]
  },
  {
   "cell_type": "code",
   "execution_count": 3,
   "metadata": {},
   "outputs": [
    {
     "name": "stdout",
     "output_type": "stream",
     "text": [
      "Number of lines with 'No data retrieved from Overpass API': 4529\n",
      "Number of lines with 'Error querying Overpass API': 8\n"
     ]
    }
   ],
   "source": [
    "# Path to your JSONL file\n",
    "file_path = '/mntssd/mnt3/shanshanbai/my_storage_from_qian/results/osm_buildings_metadata.jsonl'\n",
    "\n",
    "# Counter for lines with the specific string\n",
    "no_data_count = 0\n",
    "error_querying = 0\n",
    "\n",
    "# Open the file and iterate through each line\n",
    "with open(file_path, 'r') as file:\n",
    "    for line in file:\n",
    "        # Strip whitespace and check if it matches the specific string\n",
    "        if line.strip() == 'No data retrieved from Overpass API':\n",
    "            no_data_count += 1\n",
    "        if line.strip() == 'Error querying Overpass API':\n",
    "            error_querying += 1\n",
    "\n",
    "print(f\"Number of lines with 'No data retrieved from Overpass API': {no_data_count}\")\n",
    "print(f\"Number of lines with 'Error querying Overpass API': {error_querying}\")\n"
   ]
  },
  {
   "cell_type": "markdown",
   "metadata": {},
   "source": [
    "Filter out a clean file only with dicts:"
   ]
  },
  {
   "cell_type": "code",
   "execution_count": 4,
   "metadata": {},
   "outputs": [
    {
     "name": "stdout",
     "output_type": "stream",
     "text": [
      "Filtered dictionary rows saved to /mntssd/mnt3/shanshanbai/my_storage_from_qian/results/filtered_osm_buildings_metadata.jsonl.\n"
     ]
    }
   ],
   "source": [
    "dict_lines = []\n",
    "\n",
    "# Open the file and iterate through each line\n",
    "with open(file_path, 'r') as file:\n",
    "    for line in file:\n",
    "        stripped_line = line.strip()\n",
    "        try:\n",
    "            # Attempt to parse the line as JSON\n",
    "            parsed = json.loads(stripped_line)\n",
    "            # Check if the parsed line is a dictionary; if so, keep it\n",
    "            if isinstance(parsed, dict):\n",
    "                dict_lines.append(stripped_line)\n",
    "        except json.JSONDecodeError:\n",
    "            # If JSON parsing fails, skip the line\n",
    "            continue\n",
    "\n",
    "# Save the filtered lines to a new file (optional)\n",
    "output_file = '/mntssd/mnt3/shanshanbai/my_storage_from_qian/results/filtered_osm_buildings_metadata.jsonl'\n",
    "with open(output_file, 'w') as outfile:\n",
    "    outfile.write('\\n'.join(dict_lines))\n",
    "\n",
    "print(f\"Filtered dictionary rows saved to {output_file}.\")"
   ]
  }
 ],
 "metadata": {
  "kernelspec": {
   "display_name": "Python 3 (ipykernel)",
   "language": "python",
   "name": "python3"
  }
 },
 "nbformat": 4,
 "nbformat_minor": 2
}
